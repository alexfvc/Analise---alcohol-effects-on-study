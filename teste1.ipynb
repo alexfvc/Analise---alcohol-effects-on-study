{
 "cells": [
  {
   "cell_type": "code",
   "execution_count": 157,
   "metadata": {},
   "outputs": [],
   "source": [
    "import pandas as pd\n",
    "import numpy as np\n",
    "import matplotlib.pyplot as plt\n",
    "import seaborn as sns"
   ]
  },
  {
   "cell_type": "code",
   "execution_count": 158,
   "metadata": {},
   "outputs": [],
   "source": [
    "dfm = pd.read_csv(\"Maths.csv\")\n",
    "dfp = pd.read_csv(\"Portuguese.csv\")"
   ]
  },
  {
   "cell_type": "code",
   "execution_count": 159,
   "metadata": {},
   "outputs": [
    {
     "name": "stdout",
     "output_type": "stream",
     "text": [
      "math\n",
      "<class 'pandas.core.frame.DataFrame'>\n",
      "RangeIndex: 395 entries, 0 to 394\n",
      "Data columns (total 33 columns):\n",
      " #   Column      Non-Null Count  Dtype \n",
      "---  ------      --------------  ----- \n",
      " 0   school      395 non-null    object\n",
      " 1   sex         395 non-null    object\n",
      " 2   age         395 non-null    int64 \n",
      " 3   address     395 non-null    object\n",
      " 4   famsize     395 non-null    object\n",
      " 5   Pstatus     395 non-null    object\n",
      " 6   Medu        395 non-null    int64 \n",
      " 7   Fedu        395 non-null    int64 \n",
      " 8   Mjob        395 non-null    object\n",
      " 9   Fjob        395 non-null    object\n",
      " 10  reason      395 non-null    object\n",
      " 11  guardian    395 non-null    object\n",
      " 12  traveltime  395 non-null    int64 \n",
      " 13  studytime   395 non-null    int64 \n",
      " 14  failures    395 non-null    int64 \n",
      " 15  schoolsup   395 non-null    object\n",
      " 16  famsup      395 non-null    object\n",
      " 17  paid        395 non-null    object\n",
      " 18  activities  395 non-null    object\n",
      " 19  nursery     395 non-null    object\n",
      " 20  higher      395 non-null    object\n",
      " 21  internet    395 non-null    object\n",
      " 22  romantic    395 non-null    object\n",
      " 23  famrel      395 non-null    int64 \n",
      " 24  freetime    395 non-null    int64 \n",
      " 25  goout       395 non-null    int64 \n",
      " 26  Dalc        395 non-null    int64 \n",
      " 27  Walc        395 non-null    int64 \n",
      " 28  health      395 non-null    int64 \n",
      " 29  absences    395 non-null    int64 \n",
      " 30  G1          395 non-null    int64 \n",
      " 31  G2          395 non-null    int64 \n",
      " 32  G3          395 non-null    int64 \n",
      "dtypes: int64(16), object(17)\n",
      "memory usage: 102.0+ KB\n",
      "\n",
      "portuguese\n",
      "<class 'pandas.core.frame.DataFrame'>\n",
      "RangeIndex: 649 entries, 0 to 648\n",
      "Data columns (total 33 columns):\n",
      " #   Column      Non-Null Count  Dtype \n",
      "---  ------      --------------  ----- \n",
      " 0   school      649 non-null    object\n",
      " 1   sex         649 non-null    object\n",
      " 2   age         649 non-null    int64 \n",
      " 3   address     649 non-null    object\n",
      " 4   famsize     649 non-null    object\n",
      " 5   Pstatus     649 non-null    object\n",
      " 6   Medu        649 non-null    int64 \n",
      " 7   Fedu        649 non-null    int64 \n",
      " 8   Mjob        649 non-null    object\n",
      " 9   Fjob        649 non-null    object\n",
      " 10  reason      649 non-null    object\n",
      " 11  guardian    649 non-null    object\n",
      " 12  traveltime  649 non-null    int64 \n",
      " 13  studytime   649 non-null    int64 \n",
      " 14  failures    649 non-null    int64 \n",
      " 15  schoolsup   649 non-null    object\n",
      " 16  famsup      649 non-null    object\n",
      " 17  paid        649 non-null    object\n",
      " 18  activities  649 non-null    object\n",
      " 19  nursery     649 non-null    object\n",
      " 20  higher      649 non-null    object\n",
      " 21  internet    649 non-null    object\n",
      " 22  romantic    649 non-null    object\n",
      " 23  famrel      649 non-null    int64 \n",
      " 24  freetime    649 non-null    int64 \n",
      " 25  goout       649 non-null    int64 \n",
      " 26  Dalc        649 non-null    int64 \n",
      " 27  Walc        649 non-null    int64 \n",
      " 28  health      649 non-null    int64 \n",
      " 29  absences    649 non-null    int64 \n",
      " 30  G1          649 non-null    int64 \n",
      " 31  G2          649 non-null    int64 \n",
      " 32  G3          649 non-null    int64 \n",
      "dtypes: int64(16), object(17)\n",
      "memory usage: 167.4+ KB\n",
      "school\n",
      "GP    349\n",
      "MS     46\n",
      "Name: school, dtype: int64\n",
      "_____________________________________________\n",
      "sex\n",
      "F    208\n",
      "M    187\n",
      "Name: sex, dtype: int64\n",
      "_____________________________________________\n",
      "age\n",
      "16    104\n",
      "17     98\n",
      "18     82\n",
      "15     82\n",
      "19     24\n",
      "20      3\n",
      "22      1\n",
      "21      1\n",
      "Name: age, dtype: int64\n",
      "_____________________________________________\n",
      "address\n",
      "U    307\n",
      "R     88\n",
      "Name: address, dtype: int64\n",
      "_____________________________________________\n",
      "famsize\n",
      "GT3    281\n",
      "LE3    114\n",
      "Name: famsize, dtype: int64\n",
      "_____________________________________________\n",
      "Pstatus\n",
      "T    354\n",
      "A     41\n",
      "Name: Pstatus, dtype: int64\n",
      "_____________________________________________\n",
      "Medu\n",
      "4    131\n",
      "2    103\n",
      "3     99\n",
      "1     59\n",
      "0      3\n",
      "Name: Medu, dtype: int64\n",
      "_____________________________________________\n",
      "Fedu\n",
      "2    115\n",
      "3    100\n",
      "4     96\n",
      "1     82\n",
      "0      2\n",
      "Name: Fedu, dtype: int64\n",
      "_____________________________________________\n",
      "Mjob\n",
      "other       141\n",
      "services    103\n",
      "at_home      59\n",
      "teacher      58\n",
      "health       34\n",
      "Name: Mjob, dtype: int64\n",
      "_____________________________________________\n",
      "Fjob\n",
      "other       217\n",
      "services    111\n",
      "teacher      29\n",
      "at_home      20\n",
      "health       18\n",
      "Name: Fjob, dtype: int64\n",
      "_____________________________________________\n",
      "reason\n",
      "course        145\n",
      "home          109\n",
      "reputation    105\n",
      "other          36\n",
      "Name: reason, dtype: int64\n",
      "_____________________________________________\n",
      "guardian\n",
      "mother    273\n",
      "father     90\n",
      "other      32\n",
      "Name: guardian, dtype: int64\n",
      "_____________________________________________\n",
      "traveltime\n",
      "1    257\n",
      "2    107\n",
      "3     23\n",
      "4      8\n",
      "Name: traveltime, dtype: int64\n",
      "_____________________________________________\n",
      "studytime\n",
      "2    198\n",
      "1    105\n",
      "3     65\n",
      "4     27\n",
      "Name: studytime, dtype: int64\n",
      "_____________________________________________\n",
      "failures\n",
      "0    312\n",
      "1     50\n",
      "2     17\n",
      "3     16\n",
      "Name: failures, dtype: int64\n",
      "_____________________________________________\n",
      "schoolsup\n",
      "no     344\n",
      "yes     51\n",
      "Name: schoolsup, dtype: int64\n",
      "_____________________________________________\n",
      "famsup\n",
      "yes    242\n",
      "no     153\n",
      "Name: famsup, dtype: int64\n",
      "_____________________________________________\n",
      "paid\n",
      "no     214\n",
      "yes    181\n",
      "Name: paid, dtype: int64\n",
      "_____________________________________________\n",
      "activities\n",
      "yes    201\n",
      "no     194\n",
      "Name: activities, dtype: int64\n",
      "_____________________________________________\n",
      "nursery\n",
      "yes    314\n",
      "no      81\n",
      "Name: nursery, dtype: int64\n",
      "_____________________________________________\n",
      "higher\n",
      "yes    375\n",
      "no      20\n",
      "Name: higher, dtype: int64\n",
      "_____________________________________________\n",
      "internet\n",
      "yes    329\n",
      "no      66\n",
      "Name: internet, dtype: int64\n",
      "_____________________________________________\n",
      "romantic\n",
      "no     263\n",
      "yes    132\n",
      "Name: romantic, dtype: int64\n",
      "_____________________________________________\n",
      "famrel\n",
      "4    195\n",
      "5    106\n",
      "3     68\n",
      "2     18\n",
      "1      8\n",
      "Name: famrel, dtype: int64\n",
      "_____________________________________________\n",
      "freetime\n",
      "3    157\n",
      "4    115\n",
      "2     64\n",
      "5     40\n",
      "1     19\n",
      "Name: freetime, dtype: int64\n",
      "_____________________________________________\n",
      "goout\n",
      "3    130\n",
      "2    103\n",
      "4     86\n",
      "5     53\n",
      "1     23\n",
      "Name: goout, dtype: int64\n",
      "_____________________________________________\n",
      "Dalc\n",
      "1    276\n",
      "2     75\n",
      "3     26\n",
      "5      9\n",
      "4      9\n",
      "Name: Dalc, dtype: int64\n",
      "_____________________________________________\n",
      "Walc\n",
      "1    151\n",
      "2     85\n",
      "3     80\n",
      "4     51\n",
      "5     28\n",
      "Name: Walc, dtype: int64\n",
      "_____________________________________________\n",
      "health\n",
      "5    146\n",
      "3     91\n",
      "4     66\n",
      "1     47\n",
      "2     45\n",
      "Name: health, dtype: int64\n",
      "_____________________________________________\n",
      "absences\n",
      "0     115\n",
      "2      65\n",
      "4      53\n",
      "6      31\n",
      "8      22\n",
      "10     17\n",
      "14     12\n",
      "12     12\n",
      "3       8\n",
      "16      7\n",
      "7       7\n",
      "5       5\n",
      "18      5\n",
      "20      4\n",
      "11      3\n",
      "9       3\n",
      "13      3\n",
      "15      3\n",
      "22      3\n",
      "1       3\n",
      "38      1\n",
      "30      1\n",
      "40      1\n",
      "23      1\n",
      "19      1\n",
      "28      1\n",
      "75      1\n",
      "21      1\n",
      "24      1\n",
      "56      1\n",
      "26      1\n",
      "54      1\n",
      "25      1\n",
      "17      1\n",
      "Name: absences, dtype: int64\n",
      "_____________________________________________\n",
      "G1\n",
      "10    51\n",
      "8     41\n",
      "11    39\n",
      "7     37\n",
      "12    35\n",
      "13    33\n",
      "9     31\n",
      "14    30\n",
      "15    24\n",
      "6     24\n",
      "16    22\n",
      "18     8\n",
      "17     8\n",
      "5      7\n",
      "19     3\n",
      "4      1\n",
      "3      1\n",
      "Name: G1, dtype: int64\n",
      "_____________________________________________\n",
      "G2\n",
      "9     50\n",
      "10    46\n",
      "12    41\n",
      "13    37\n",
      "11    35\n",
      "15    34\n",
      "8     32\n",
      "14    23\n",
      "7     21\n",
      "5     15\n",
      "6     14\n",
      "16    13\n",
      "0     13\n",
      "18    12\n",
      "17     5\n",
      "19     3\n",
      "4      1\n",
      "Name: G2, dtype: int64\n",
      "_____________________________________________\n",
      "G3\n",
      "10    56\n",
      "11    47\n",
      "0     38\n",
      "15    33\n",
      "8     32\n",
      "13    31\n",
      "12    31\n",
      "9     28\n",
      "14    27\n",
      "16    16\n",
      "6     15\n",
      "18    12\n",
      "7      9\n",
      "5      7\n",
      "17     6\n",
      "19     5\n",
      "20     1\n",
      "4      1\n",
      "Name: G3, dtype: int64\n",
      "_____________________________________________\n",
      "school\n",
      "GP    423\n",
      "MS    226\n",
      "Name: school, dtype: int64\n",
      "_____________________________________________\n",
      "sex\n",
      "F    383\n",
      "M    266\n",
      "Name: sex, dtype: int64\n",
      "_____________________________________________\n",
      "age\n",
      "17    179\n",
      "16    177\n",
      "18    140\n",
      "15    112\n",
      "19     32\n",
      "20      6\n",
      "21      2\n",
      "22      1\n",
      "Name: age, dtype: int64\n",
      "_____________________________________________\n",
      "address\n",
      "U    452\n",
      "R    197\n",
      "Name: address, dtype: int64\n",
      "_____________________________________________\n",
      "famsize\n",
      "GT3    457\n",
      "LE3    192\n",
      "Name: famsize, dtype: int64\n",
      "_____________________________________________\n",
      "Pstatus\n",
      "T    569\n",
      "A     80\n",
      "Name: Pstatus, dtype: int64\n",
      "_____________________________________________\n",
      "Medu\n",
      "2    186\n",
      "4    175\n",
      "1    143\n",
      "3    139\n",
      "0      6\n",
      "Name: Medu, dtype: int64\n",
      "_____________________________________________\n",
      "Fedu\n",
      "2    209\n",
      "1    174\n",
      "3    131\n",
      "4    128\n",
      "0      7\n",
      "Name: Fedu, dtype: int64\n",
      "_____________________________________________\n",
      "Mjob\n",
      "other       258\n",
      "services    136\n",
      "at_home     135\n",
      "teacher      72\n",
      "health       48\n",
      "Name: Mjob, dtype: int64\n",
      "_____________________________________________\n",
      "Fjob\n",
      "other       367\n",
      "services    181\n",
      "at_home      42\n",
      "teacher      36\n",
      "health       23\n",
      "Name: Fjob, dtype: int64\n",
      "_____________________________________________\n",
      "reason\n",
      "course        285\n",
      "home          149\n",
      "reputation    143\n",
      "other          72\n",
      "Name: reason, dtype: int64\n",
      "_____________________________________________\n",
      "guardian\n",
      "mother    455\n",
      "father    153\n",
      "other      41\n",
      "Name: guardian, dtype: int64\n",
      "_____________________________________________\n",
      "traveltime\n",
      "1    366\n",
      "2    213\n",
      "3     54\n",
      "4     16\n",
      "Name: traveltime, dtype: int64\n",
      "_____________________________________________\n",
      "studytime\n",
      "2    305\n",
      "1    212\n",
      "3     97\n",
      "4     35\n",
      "Name: studytime, dtype: int64\n",
      "_____________________________________________\n",
      "failures\n",
      "0    549\n",
      "1     70\n",
      "2     16\n",
      "3     14\n",
      "Name: failures, dtype: int64\n",
      "_____________________________________________\n",
      "schoolsup\n",
      "no     581\n",
      "yes     68\n",
      "Name: schoolsup, dtype: int64\n",
      "_____________________________________________\n",
      "famsup\n",
      "yes    398\n",
      "no     251\n",
      "Name: famsup, dtype: int64\n",
      "_____________________________________________\n",
      "paid\n",
      "no     610\n",
      "yes     39\n",
      "Name: paid, dtype: int64\n",
      "_____________________________________________\n",
      "activities\n",
      "no     334\n",
      "yes    315\n",
      "Name: activities, dtype: int64\n",
      "_____________________________________________\n",
      "nursery\n",
      "yes    521\n",
      "no     128\n",
      "Name: nursery, dtype: int64\n",
      "_____________________________________________\n",
      "higher\n",
      "yes    580\n",
      "no      69\n",
      "Name: higher, dtype: int64\n",
      "_____________________________________________\n",
      "internet\n",
      "yes    498\n",
      "no     151\n",
      "Name: internet, dtype: int64\n",
      "_____________________________________________\n",
      "romantic\n",
      "no     410\n",
      "yes    239\n",
      "Name: romantic, dtype: int64\n",
      "_____________________________________________\n",
      "famrel\n",
      "4    317\n",
      "5    180\n",
      "3    101\n",
      "2     29\n",
      "1     22\n",
      "Name: famrel, dtype: int64\n",
      "_____________________________________________\n",
      "freetime\n",
      "3    251\n",
      "4    178\n",
      "2    107\n",
      "5     68\n",
      "1     45\n",
      "Name: freetime, dtype: int64\n",
      "_____________________________________________\n",
      "goout\n",
      "3    205\n",
      "2    145\n",
      "4    141\n",
      "5    110\n",
      "1     48\n",
      "Name: goout, dtype: int64\n",
      "_____________________________________________\n",
      "Dalc\n",
      "1    451\n",
      "2    121\n",
      "3     43\n",
      "5     17\n",
      "4     17\n",
      "Name: Dalc, dtype: int64\n",
      "_____________________________________________\n",
      "Walc\n",
      "1    247\n",
      "2    150\n",
      "3    120\n",
      "4     87\n",
      "5     45\n",
      "Name: Walc, dtype: int64\n",
      "_____________________________________________\n",
      "health\n",
      "5    249\n",
      "3    124\n",
      "4    108\n",
      "1     90\n",
      "2     78\n",
      "Name: health, dtype: int64\n",
      "_____________________________________________\n",
      "absences\n",
      "0     244\n",
      "2     110\n",
      "4      93\n",
      "6      49\n",
      "8      42\n",
      "10     21\n",
      "1      12\n",
      "12     12\n",
      "5      12\n",
      "16     10\n",
      "14      8\n",
      "9       7\n",
      "3       7\n",
      "11      5\n",
      "18      3\n",
      "7       3\n",
      "21      2\n",
      "15      2\n",
      "22      2\n",
      "30      1\n",
      "26      1\n",
      "24      1\n",
      "13      1\n",
      "32      1\n",
      "Name: absences, dtype: int64\n",
      "_____________________________________________\n",
      "G1\n",
      "10    95\n",
      "11    91\n",
      "12    82\n",
      "13    72\n",
      "14    71\n",
      "9     65\n",
      "8     42\n",
      "15    35\n",
      "7     33\n",
      "16    22\n",
      "17    16\n",
      "6      9\n",
      "18     7\n",
      "5      5\n",
      "4      2\n",
      "0      1\n",
      "19     1\n",
      "Name: G1, dtype: int64\n",
      "_____________________________________________\n",
      "G2\n",
      "11    103\n",
      "12     86\n",
      "10     83\n",
      "13     80\n",
      "9      72\n",
      "14     54\n",
      "8      40\n",
      "15     38\n",
      "16     25\n",
      "17     20\n",
      "7      16\n",
      "18     14\n",
      "6       7\n",
      "0       7\n",
      "5       3\n",
      "19      1\n",
      "Name: G2, dtype: int64\n",
      "_____________________________________________\n",
      "G3\n",
      "11    104\n",
      "10     97\n",
      "13     82\n",
      "12     72\n",
      "14     63\n",
      "15     49\n",
      "16     36\n",
      "9      35\n",
      "8      35\n",
      "17     29\n",
      "18     15\n",
      "0      15\n",
      "7      10\n",
      "6       3\n",
      "19      2\n",
      "1       1\n",
      "5       1\n",
      "Name: G3, dtype: int64\n",
      "_____________________________________________\n"
     ]
    }
   ],
   "source": [
    "dfm.columns.to_list()\n",
    "print('math')\n",
    "dfm.info()\n",
    "print('\\nportuguese')\n",
    "dfp.info()\n",
    "dfm.isna().sum() #math 0 na\n",
    "dfp.isna().sum() #portuguese 0 na\n",
    "cm = dfm.columns.to_list()\n",
    "cp = dfp.columns.to_list()\n",
    "for x in cm:\n",
    "    print(f'{x}\\n{dfm[x].value_counts()}\\n{15*\"___\"}')\n",
    "for x in cp:\n",
    "    print(f'{x}\\n{dfp[x].value_counts()}\\n{15*\"___\"}')"
   ]
  },
  {
   "cell_type": "code",
   "execution_count": 160,
   "metadata": {},
   "outputs": [],
   "source": [
    "dfs = dfm['sex'].value_counts()"
   ]
  },
  {
   "cell_type": "code",
   "execution_count": 161,
   "metadata": {},
   "outputs": [],
   "source": [
    "colunas = dfs.index.to_list()"
   ]
  },
  {
   "cell_type": "code",
   "execution_count": 162,
   "metadata": {},
   "outputs": [],
   "source": [
    "valores = dfs.values"
   ]
  },
  {
   "cell_type": "code",
   "execution_count": 163,
   "metadata": {},
   "outputs": [],
   "source": [
    "x= pd.DataFrame([valores], columns=colunas,index=('sex',1,2,3,4,5,6))"
   ]
  },
  {
   "cell_type": "code",
   "execution_count": 164,
   "metadata": {},
   "outputs": [],
   "source": [
    "x.drop(index=[1,2,3,4,5,6],inplace=True)"
   ]
  },
  {
   "cell_type": "code",
   "execution_count": 171,
   "metadata": {},
   "outputs": [
    {
     "data": {
      "text/plain": [
       "<AxesSubplot:>"
      ]
     },
     "execution_count": 171,
     "metadata": {},
     "output_type": "execute_result"
    },
    {
     "data": {
      "image/png": "[encoded data removed]",
      "text/plain": [
       "<Figure size 432x288 with 1 Axes>"
      ]
     },
     "metadata": {
      "needs_background": "light"
     },
     "output_type": "display_data"
    }
   ],
   "source": [
    "x.plot.barh(stacked=True)"
   ]
  },
  {
   "cell_type": "code",
   "execution_count": 149,
   "metadata": {},
   "outputs": [],
   "source": [
    "cm = dfm.columns.to_list()"
   ]
  },
  {
   "cell_type": "code",
   "execution_count": 152,
   "metadata": {},
   "outputs": [
    {
     "name": "stderr",
     "output_type": "stream",
     "text": [
      "C:\\Users\\alexf\\AppData\\Local\\Packages\\PythonSoftwareFoundation.Python.3.10_qbz5n2kfra8p0\\LocalCache\\local-packages\\Python310\\site-packages\\pandas\\plotting\\_matplotlib\\core.py:386: RuntimeWarning: More than 20 figures have been opened. Figures created through the pyplot interface (`matplotlib.pyplot.figure`) are retained until explicitly closed and may consume too much memory. (To control this warning, see the rcParam `figure.max_open_warning`).\n",
      "  fig = self.plt.figure(figsize=self.figsize)\n"
     ]
    },
    {
     "data": {
      "image/png": "[encoded data removed]",
      "text/plain": [
       "<Figure size 432x288 with 1 Axes>"
      ]
     },
     "metadata": {
      "needs_background": "light"
     },
     "output_type": "display_data"
    },
    {
     "data": {
      "image/png": "[encoded data removed]",
      "text/plain": [
       "<Figure size 432x288 with 1 Axes>"
      ]
     },
     "metadata": {
      "needs_background": "light"
     },
     "output_type": "display_data"
    },
    {
     "data": {
      "image/png": "[encoded data removed]",
      "text/plain": [
       "<Figure size 432x288 with 1 Axes>"
      ]
     },
     "metadata": {
      "needs_background": "light"
     },
     "output_type": "display_data"
    },
    {
     "data": {
      "image/png": "[encoded data removed]",
      "text/plain": [
       "<Figure size 432x288 with 1 Axes>"
      ]
     },
     "metadata": {
      "needs_background": "light"
     },
     "output_type": "display_data"
    },
    {
     "data": {
      "image/png": "[encoded data removed]",
      "text/plain": [
       "<Figure size 432x288 with 1 Axes>"
      ]
     },
     "metadata": {
      "needs_background": "light"
     },
     "output_type": "display_data"
    },
    {
     "data": {
      "image/png": "[encoded data removed]",
      "text/plain": [
       "<Figure size 432x288 with 1 Axes>"
      ]
     },
     "metadata": {
      "needs_background": "light"
     },
     "output_type": "display_data"
    },
    {
     "data": {
      "image/png": "[encoded data removed]",
      "text/plain": [
       "<Figure size 432x288 with 1 Axes>"
      ]
     },
     "metadata": {
      "needs_background": "light"
     },
     "output_type": "display_data"
    },
    {
     "data": {
      "image/png": "[encoded data removed]",
      "text/plain": [
       "<Figure size 432x288 with 1 Axes>"
      ]
     },
     "metadata": {
      "needs_background": "light"
     },
     "output_type": "display_data"
    },
    {
     "data": {
      "image/png": "[encoded data removed]",
      "text/plain": [
       "<Figure size 432x288 with 1 Axes>"
      ]
     },
     "metadata": {
      "needs_background": "light"
     },
     "output_type": "display_data"
    },
    {
     "data": {
      "image/png": "[encoded data removed]",
      "text/plain": [
       "<Figure size 432x288 with 1 Axes>"
      ]
     },
     "metadata": {
      "needs_background": "light"
     },
     "output_type": "display_data"
    },
    {
     "data": {
      "image/png": "[encoded data removed]",
      "text/plain": [
       "<Figure size 432x288 with 1 Axes>"
      ]
     },
     "metadata": {
      "needs_background": "light"
     },
     "output_type": "display_data"
    },
    {
     "data": {
      "image/png": "[encoded data removed]",
      "text/plain": [
       "<Figure size 432x288 with 1 Axes>"
      ]
     },
     "metadata": {
      "needs_background": "light"
     },
     "output_type": "display_data"
    },
    {
     "data": {
      "image/png": "[encoded data removed]",
      "text/plain": [
       "<Figure size 432x288 with 1 Axes>"
      ]
     },
     "metadata": {
      "needs_background": "light"
     },
     "output_type": "display_data"
    },
    {
     "data": {
      "image/png": "[encoded data removed]",
      "text/plain": [
       "<Figure size 432x288 with 1 Axes>"
      ]
     },
     "metadata": {
      "needs_background": "light"
     },
     "output_type": "display_data"
    },
    {
     "data": {
      "image/png": "[encoded data removed]",
      "text/plain": [
       "<Figure size 432x288 with 1 Axes>"
      ]
     },
     "metadata": {
      "needs_background": "light"
     },
     "output_type": "display_data"
    },
    {
     "data": {
      "image/png": "[encoded data removed]",
      "text/plain": [
       "<Figure size 432x288 with 1 Axes>"
      ]
     },
     "metadata": {
      "needs_background": "light"
     },
     "output_type": "display_data"
    },
    {
     "data": {
      "image/png": "[encoded data removed]",
      "text/plain": [
       "<Figure size 432x288 with 1 Axes>"
      ]
     },
     "metadata": {
      "needs_background": "light"
     },
     "output_type": "display_data"
    },
    {
     "data": {
      "image/png": "[encoded data removed]",
      "text/plain": [
       "<Figure size 432x288 with 1 Axes>"
      ]
     },
     "metadata": {
      "needs_background": "light"
     },
     "output_type": "display_data"
    },
    {
     "data": {
      "image/png": "[encoded data removed]",
      "text/plain": [
       "<Figure size 432x288 with 1 Axes>"
      ]
     },
     "metadata": {
      "needs_background": "light"
     },
     "output_type": "display_data"
    },
    {
     "data": {
      "image/png": "[encoded data removed]",
      "text/plain": [
       "<Figure size 432x288 with 1 Axes>"
      ]
     },
     "metadata": {
      "needs_background": "light"
     },
     "output_type": "display_data"
    },
    {
     "data": {
      "image/png": "[encoded data removed]",
      "text/plain": [
       "<Figure size 432x288 with 1 Axes>"
      ]
     },
     "metadata": {
      "needs_background": "light"
     },
     "output_type": "display_data"
    },
    {
     "data": {
      "image/png": "[encoded data removed]",
      "text/plain": [
       "<Figure size 432x288 with 1 Axes>"
      ]
     },
     "metadata": {
      "needs_background": "light"
     },
     "output_type": "display_data"
    },
    {
     "data": {
      "image/png": "[encoded data removed]",
      "text/plain": [
       "<Figure size 432x288 with 1 Axes>"
      ]
     },
     "metadata": {
      "needs_background": "light"
     },
     "output_type": "display_data"
    },
    {
     "data": {
      "image/png": "[encoded data removed]",
      "text/plain": [
       "<Figure size 432x288 with 1 Axes>"
      ]
     },
     "metadata": {
      "needs_background": "light"
     },
     "output_type": "display_data"
    },
    {
     "data": {
      "image/png": "[encoded data removed]",
      "text/plain": [
       "<Figure size 432x288 with 1 Axes>"
      ]
     },
     "metadata": {
      "needs_background": "light"
     },
     "output_type": "display_data"
    },
    {
     "data": {
      "image/png": "[encoded data removed]",
      "text/plain": [
       "<Figure size 432x288 with 1 Axes>"
      ]
     },
     "metadata": {
      "needs_background": "light"
     },
     "output_type": "display_data"
    },
    {
     "data": {
      "image/png": "[encoded data removed]",
      "text/plain": [
       "<Figure size 432x288 with 1 Axes>"
      ]
     },
     "metadata": {
      "needs_background": "light"
     },
     "output_type": "display_data"
    },
    {
     "data": {
      "image/png": "[encoded data removed]",
      "text/plain": [
       "<Figure size 432x288 with 1 Axes>"
      ]
     },
     "metadata": {
      "needs_background": "light"
     },
     "output_type": "display_data"
    },
    {
     "data": {
      "image/png": "[encoded data removed]",
      "text/plain": [
       "<Figure size 432x288 with 1 Axes>"
      ]
     },
     "metadata": {
      "needs_background": "light"
     },
     "output_type": "display_data"
    }
   ],
   "source": [
    "for x in cm:\n",
    "    if x == 'absences' or x == 'G1' or x == 'G2'or x == 'G3':\n",
    "        break\n",
    "    else:\n",
    "        dfx = dfm[x].value_counts()\n",
    "        colunas = dfx.index.to_list()\n",
    "        valores = dfx.values\n",
    "        df1 = pd.DataFrame([valores], columns=colunas,index=(x,1,2,3,4,5,6))\n",
    "        df1.drop(index=[1,2,3,4,5,6],inplace=True)\n",
    "        df1.plot.barh(stacked=True)\n",
    "        "
   ]
  },
  {
   "cell_type": "code",
   "execution_count": null,
   "metadata": {},
   "outputs": [],
   "source": []
  }
 ],
 "metadata": {
  "kernelspec": {
   "display_name": "Python 3.10.7 64-bit (microsoft store)",
   "language": "python",
   "name": "python3"
  },
  "language_info": {
   "codemirror_mode": {
    "name": "ipython",
    "version": 3
   },
   "file_extension": ".py",
   "mimetype": "text/x-python",
   "name": "python",
   "nbconvert_exporter": "python",
   "pygments_lexer": "ipython3",
   "version": "3.10.7"
  },
  "orig_nbformat": 4,
  "vscode": {
   "interpreter": {
    "hash": "afa95ad8ad0e1d15f707ecb9e1571b9311322faf387893e67cd14fbfb38bf9d9"
   }
  }
 },
 "nbformat": 4,
 "nbformat_minor": 2
}
